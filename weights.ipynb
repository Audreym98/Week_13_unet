{
 "cells": [
  {
   "cell_type": "code",
   "execution_count": 178,
   "id": "8f762f67",
   "metadata": {},
   "outputs": [],
   "source": [
    "import matplotlib.pyplot as plt\n",
    "%matplotlib inline\n",
    "import numpy as np\n",
    "from skimage.io import imshow\n",
    "from skimage.measure import label\n",
    "from scipy.ndimage.morphology import distance_transform_edt\n",
    "from copy import deepcopy\n",
    "\n",
    "def generate_random_circles(n = 50, d = 100, cell_size = 20):\n",
    "\n",
    "  \"\"\"\n",
    "  Generate a numpy array that is a simulated mask for an image of \n",
    "  cells where the in-cell pixels are 1 and background pixels are 0. \n",
    "  Used as prelimiary generator for unet_weight_map function.\n",
    "\n",
    "  Parameters\n",
    "  ----------\n",
    "  n:  int\n",
    "      Number of cells to be created\n",
    "  d:  int\n",
    "      Dictionary of weight classes.\n",
    "  Returns\n",
    "  -------\n",
    "  Numpy array\n",
    "      Simulated mask for a cell-image. A 2D array of shape (d,d).\n",
    "  \"\"\"\n",
    "  # Generate coordinates for random circles\n",
    "  circles = np.random.randint(0, d, (n, 3))\n",
    "\n",
    "  # Generate background for simluated cell image \n",
    "  x = np.zeros((d, d), dtype=int)\n",
    "  \n",
    "  # Iterate over circles and insert into simulated image\n",
    "  for x0, y0, r in circles:\n",
    "    copy_x = deepcopy(x)\n",
    "    # Generate new 2D array with circle of pixels with value 1 for current circle\n",
    "    new_x = np.fromfunction(lambda x, y: ((x - x0)**2 + (y - y0)**2) <= (r/d*cell_size)**2, x.shape)\n",
    "    \n",
    "    # Add new circle to cell map\n",
    "    for i in range(1,len(new_x)-1):\n",
    "      for j in range(1,len(new_x[0])-1):\n",
    "        # Only add to cell map if neighbours are 0\n",
    "        if new_x[i][j] == True and x[i-1][j]==0 and x[i-1][j-1]==0 and x[i][j-1]==0 and x[i][j+1]==0 and x[i+1][j+1]==0 and x[i+1][j]==0 and x[i+1][j-1]==0 and x[i-1][j+1]==0:\n",
    "          copy_x[i][j] += new_x[i][j]\n",
    "    x += copy_x\n",
    "  \n",
    "  # Clip values above 1 to a max of 1\n",
    "  x = np.clip(x, 0, 1)\n",
    "\n",
    "  # Return simulated cell map\n",
    "  return x"
   ]
  },
  {
   "cell_type": "code",
   "execution_count": 179,
   "id": "9a1772dc",
   "metadata": {},
   "outputs": [],
   "source": [
    "\n",
    "def unet_weight_map(y, wc=None, w0 = 10, sigma = 5):\n",
    "\n",
    "  \"\"\"\n",
    "  Generate weight maps as specified in the U-Net paper\n",
    "  for boolean mask.\n",
    "  \n",
    "  \"U-Net: Convolutional Networks for Biomedical Image Segmentation\"\n",
    "  https://arxiv.org/pdf/1505.04597.pdf\n",
    "  \n",
    "  Parameters\n",
    "  ----------\n",
    "  mask: Numpy array\n",
    "      2D array of shape (image_height, image_width) representing binary mask\n",
    "      of objects.\n",
    "  wc: dict\n",
    "      Dictionary of weight classes.\n",
    "  w0: int\n",
    "      Border weight parameter.\n",
    "  sigma: int\n",
    "      Border width parameter.\n",
    "  Returns\n",
    "  -------\n",
    "  Numpy array\n",
    "      Training weights. A 2D array of shape (image_height, image_width).\n",
    "  \"\"\"\n",
    "  \n",
    "  labels = label(y)\n",
    "  no_labels = labels == 0\n",
    "  label_ids = sorted(np.unique(labels))[1:]\n",
    "\n",
    "  if len(label_ids) > 1:\n",
    "    distances = np.zeros((y.shape[0], y.shape[1], len(label_ids)))\n",
    "\n",
    "    for i, label_id in enumerate(label_ids):\n",
    "      distances[:,:,i] = distance_transform_edt(labels != label_id)\n",
    "\n",
    "    distances = np.sort(distances, axis=2)\n",
    "    d1 = distances[:,:,0]\n",
    "    d2 = distances[:,:,1]\n",
    "    \n",
    "    w = w0 * np.exp(-1/2*((d1 + d2) / sigma)**2) * no_labels\n",
    "\n",
    "    # Add weights for circles\n",
    "    if wc:\n",
    "      class_weights = np.zeros_like(y)\n",
    "      for k, v in wc.items():\n",
    "        class_weights[y == k] = v\n",
    "      w = w + class_weights\n",
    "  else:\n",
    "    w = np.zeros_like(y)\n",
    "  \n",
    "  return w\n"
   ]
  },
  {
   "cell_type": "code",
   "execution_count": 189,
   "id": "8b6fe945",
   "metadata": {},
   "outputs": [
    {
     "data": {
      "image/png": "[encoded data removed]",
      "text/plain": [
       "<Figure size 432x288 with 2 Axes>"
      ]
     },
     "metadata": {
      "needs_background": "light"
     },
     "output_type": "display_data"
    },
    {
     "data": {
      "image/png": "[encoded data removed]",
      "text/plain": [
       "<Figure size 432x288 with 2 Axes>"
      ]
     },
     "metadata": {
      "needs_background": "light"
     },
     "output_type": "display_data"
    }
   ],
   "source": [
    "# Generate simulated cell mask \n",
    "y = generate_random_circles(n=10, d=50, cell_size=10)\n",
    "imshow(y)\n",
    "plt.show()\n",
    "\n",
    "# Ratio of class counts \n",
    "wc = {\n",
    "  0: 4, # background\n",
    "  1: 1  # cells\n",
    "}\n",
    "\n",
    "# Generate weighted map\n",
    "w = unet_weight_map(y, wc)\n",
    "imshow(w)\n",
    "plt.show()"
   ]
  }
 ],
 "metadata": {
  "kernelspec": {
   "display_name": "Python 3 (ipykernel)",
   "language": "python",
   "name": "python3"
  },
  "language_info": {
   "codemirror_mode": {
    "name": "ipython",
    "version": 3
   },
   "file_extension": ".py",
   "mimetype": "text/x-python",
   "name": "python",
   "nbconvert_exporter": "python",
   "pygments_lexer": "ipython3",
   "version": "3.9.12"
  }
 },
 "nbformat": 4,
 "nbformat_minor": 5
}
