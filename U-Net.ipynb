{
 "cells": [
  {
   "attachments": {},
   "cell_type": "markdown",
   "id": "3899ee5d",
   "metadata": {},
   "source": [
    "# Week 12: U-Net\n",
    "## Convolutional Networks for Image Segmentation\n",
    "\n",
    "Olaf Ronneberger, Philipp Fischer, and Thomas Brox\n",
    "2015\n",
    "\n",
    "U-Net is a segmentation network whose architecture resembles the letter \"u\". The network \"contracts to capture context and a symmetric expanding path that enables precise localization\" (Ronnenberger et al. 2015).\n",
    "\n",
    "![unet.PNG](unet.PNG)\n",
    "\n",
    "The example provided here will use a dataset of images we chose to use is labeled to classify cars. There are two labels in these images ('car' and 'not car'). \n"
   ]
  },
  {
   "cell_type": "markdown",
   "id": "ae7b9e01",
   "metadata": {},
   "source": [
    "## Weighted Mask\n",
    "\n",
    "The use of the standard categorical cross-entropy loss function in U-net can be problematic for biomedical image segmentation:  \n",
    "* When using this loss function, the model is rewarded for classifying narrow cell boundaries as being in-cell pixels because they are close to many other in-cell pixels  \n",
    "* While this might not reduce the overall accuracy much, it reduces the usefulness of the segmentation result  \n",
    "* To mitigate this problem, the implementation from the paper includes a weight map that is used to add a weight value to the loss function.  \n",
    "\n",
    "This weight map is calculated as follows:\n",
    "\n",
    "$$\\Large\n",
    "w(x) = w_c(x) + w_0\\ \\cdot\\ exp\\ (-\\ \\frac{(d_1(x) + d_2(x))^2}{2 \\sigma^2})\n",
    "$$\n",
    "\n",
    "$$\\small  \n",
    "x\\ is\\ the\\ current\\ pixel \\\\  \n",
    "w_c\\ is\\ the\\ class\\ weighting\\ that\\ upweights\\ classes\\ differently \\\\  \n",
    "d_1\\ is\\ the\\ distance\\ to\\ the\\ nearest\\ cell\\ boundary \\\\  \n",
    "d_2\\ is\\ the\\ distance\\ to\\ the\\ second\\ nearest\\ cell\\ boundary \\\\  \n",
    "w_0\\ and\\ \\sigma\\ are\\ constants\\ that\\ scale\\ the\\ weighting $$  \n",
    "  \n",
    "### Example:  \n",
    "Let's implement this in code. First we need to develop a function that can generate random cells to simulate a microscopy image:\n"
   ]
  },
  {
   "cell_type": "code",
   "execution_count": 19,
   "id": "d507ae0f",
   "metadata": {},
   "outputs": [],
   "source": [
    "# from skimage.io import imshow\n",
    "from skimage.measure import label\n",
    "from scipy.ndimage.morphology import distance_transform_edt\n",
    "from copy import deepcopy\n",
    "import numpy as np\n",
    "import matplotlib.pyplot as plt\n",
    "import os\n",
    "\n",
    "def generate_random_circles(n = 50, d = 100, cell_size = 20):\n",
    "\n",
    "  \"\"\"\n",
    "  Generate a numpy array that is a simulated mask for an image of \n",
    "  cells where the in-cell pixels are 1 and background pixels are 0. \n",
    "  Used as prelimiary generator for unet_weight_map function.\n",
    "\n",
    "  Parameters\n",
    "  ----------\n",
    "  n:  int\n",
    "      Number of cells to be created\n",
    "  d:  int\n",
    "      Dictionary of weight classes.\n",
    "  Returns\n",
    "  -------\n",
    "  Numpy array\n",
    "      Simulated mask for a cell-image. A 2D array of shape (d,d).\n",
    "  \"\"\"\n",
    "  # Generate coordinates for random circles\n",
    "  circles = np.random.randint(0, d, (n, 3))\n",
    "  # Ensure radius (3rd col) is between d/3 and d\n",
    "  circles[:,2] = np.interp(circles[:,2], (circles[:,2].max(), circles[:,2].max()), (d/3,d))\n",
    "\n",
    "  # Generate background for simluated cell image \n",
    "  x = np.zeros((d, d), dtype=int)\n",
    "  \n",
    "  # Iterate over circles and insert into simulated image\n",
    "  for x0, y0, r in circles:\n",
    "    copy_x = deepcopy(x)\n",
    "    # Generate new 2D array with circle of pixels with value 1 for current circle\n",
    "    new_x = np.fromfunction(lambda x, y: ((x - x0)**2 + (y - y0)**2) <= (r/d*cell_size)**2, x.shape)\n",
    "    \n",
    "    # Add new circle to cell map\n",
    "    for i in range(1,len(new_x)-1):\n",
    "      for j in range(1,len(new_x[0])-1):\n",
    "        # Only add to cell map if neighbours are 0\n",
    "        if new_x[i][j] == True and x[i-1][j]==0 and x[i-1][j-1]==0 and x[i][j-1]==0 and x[i][j+1]==0 and x[i+1][j+1]==0 and x[i+1][j]==0 and x[i+1][j-1]==0 and x[i-1][j+1]==0:\n",
    "          copy_x[i][j] += new_x[i][j]\n",
    "    x += copy_x\n",
    "  \n",
    "  # Clip values above 1 to a max of 1\n",
    "  x = np.clip(x, 0, 1)\n",
    "\n",
    "  # Return simulated cell map\n",
    "  return x"
   ]
  },
  {
   "cell_type": "markdown",
   "id": "8fa24245",
   "metadata": {},
   "source": [
    "Second we need to implement the weighting function that weights each pixel in the image based on it's distance to the nearest cell boundaries:"
   ]
  },
  {
   "cell_type": "code",
   "execution_count": 3,
   "id": "ad58a0ae",
   "metadata": {},
   "outputs": [],
   "source": [
    "\n",
    "def unet_weight_map(y, wc=None, w0 = 10, sigma = 5):\n",
    "\n",
    "  \"\"\"\n",
    "  Generate weight maps as specified in the U-Net paper\n",
    "  for boolean mask.\n",
    "  \n",
    "  \"U-Net: Convolutional Networks for Biomedical Image Segmentation\"\n",
    "  https://arxiv.org/pdf/1505.04597.pdf\n",
    "  \n",
    "  Parameters\n",
    "  ----------\n",
    "  mask: Numpy array\n",
    "      2D array of shape (image_height, image_width) representing binary mask\n",
    "      of objects.\n",
    "  wc: dict\n",
    "      Dictionary of weight classes.\n",
    "  w0: int\n",
    "      Border weight parameter.\n",
    "  sigma: int\n",
    "      Border width parameter.\n",
    "  Returns\n",
    "  -------\n",
    "  Numpy array\n",
    "      Training weights. A 2D array of shape (image_height, image_width).\n",
    "  \"\"\"\n",
    "  \n",
    "  # Grab labels from input\n",
    "  labels = label(y)\n",
    "  no_labels = labels == 0\n",
    "  label_ids = sorted(np.unique(labels))[1:]\n",
    "\n",
    "  # Check for circles in y\n",
    "  if len(label_ids) > 1:\n",
    "    # Calculate distances\n",
    "    distances = np.zeros((y.shape[0], y.shape[1], len(label_ids)))\n",
    "    for i, label_id in enumerate(label_ids):\n",
    "      distances[:,:,i] = distance_transform_edt(labels != label_id)\n",
    "\n",
    "    # Sort for nearest cell boundary distances\n",
    "    distances = np.sort(distances, axis=2)\n",
    "    d1 = distances[:,:,0]\n",
    "    d2 = distances[:,:,1]\n",
    "    \n",
    "    # Calculate second term in weighting equation\n",
    "    w = w0 * np.exp(-1/2*((d1 + d2) / sigma)**2) * no_labels\n",
    "\n",
    "    # Sum with class weights to produce weighted mask\n",
    "    if wc:\n",
    "      class_weights = np.zeros_like(y)\n",
    "      for k, v in wc.items():\n",
    "        class_weights[y == k] = v\n",
    "      w = w + class_weights\n",
    "  \n",
    "  # If no circles we passed in to the function, return zeros\n",
    "  else:\n",
    "    w = np.zeros_like(y)\n",
    "  \n",
    "  # Return weighted mask\n",
    "  return w\n"
   ]
  },
  {
   "cell_type": "markdown",
   "id": "2e1eb5b7",
   "metadata": {},
   "source": [
    "Let's generate a simulated cell image mask and then weight the pixels of that mask. You need to choose weighting values for the two classes, cell and non-cell:"
   ]
  },
  {
   "cell_type": "code",
   "execution_count": 4,
   "id": "840b9424",
   "metadata": {},
   "outputs": [
    {
     "data": {
      "image/png": "[encoded data removed]",
      "text/plain": [
       "<Figure size 432x288 with 2 Axes>"
      ]
     },
     "metadata": {
      "needs_background": "light"
     },
     "output_type": "display_data"
    },
    {
     "name": "stdout",
     "output_type": "stream",
     "text": [
      "Class Weighting: {0: 0, 1: 0}\n"
     ]
    },
    {
     "data": {
      "image/png": "[encoded data removed]",
      "text/plain": [
       "<Figure size 432x288 with 2 Axes>"
      ]
     },
     "metadata": {
      "needs_background": "light"
     },
     "output_type": "display_data"
    }
   ],
   "source": [
    "# Generate simulated cell mask \n",
    "num_cells        = 60\n",
    "image_dimensions = 100\n",
    "cell_size        = 15\n",
    "y = generate_random_circles(num_cells, image_dimensions, cell_size)\n",
    "\n",
    "# Display cell mask\n",
    "plt.imshow(y)\n",
    "plt.title('Cell Image Mask')\n",
    "plt.colorbar()\n",
    "plt.show()\n",
    "\n",
    "# Weighting for pixels assigned to the two classes\n",
    "class_weighting = {\n",
    "  # TODO: Choose weighting values for the classes in the cell mask - they are currently set to 0.\n",
    "  0: 0, # background\n",
    "  1: 0  # cells\n",
    "}\n",
    "\n",
    "print('Class Weighting:', class_weighting)\n",
    "\n",
    "# Generate weighted map\n",
    "w = unet_weight_map(y, class_weighting)\n",
    "\n",
    "# Display weighted mask\n",
    "plt.imshow(w)\n",
    "plt.title('Cell Image Weighted Mask')\n",
    "plt.colorbar()\n",
    "plt.show()"
   ]
  },
  {
   "cell_type": "markdown",
   "id": "4b835a1c",
   "metadata": {},
   "source": [
    "Try adjusting the weighting of the class in the class_weighting dictionary (or other parameters) and see what impact that has on the final weighted mask.\n",
    "\n",
    "# Implementing U-Net"
   ]
  },
  {
   "cell_type": "code",
   "execution_count": 5,
   "id": "d311a0bb",
   "metadata": {},
   "outputs": [],
   "source": [
    "import torch\n",
    "import torch.nn as nn\n",
    "import torchvision.transforms.functional as TF"
   ]
  },
  {
   "cell_type": "markdown",
   "id": "f3a3ce08",
   "metadata": {},
   "source": [
    "We use the double convolution quite a lot in this architecture so let's implement it as a reusable code block."
   ]
  },
  {
   "cell_type": "code",
   "execution_count": 6,
   "id": "054f2211",
   "metadata": {},
   "outputs": [],
   "source": [
    "\n",
    "class DoubleConv(nn.Module):\n",
    "    def __init__(self, in_channels, out_channels):\n",
    "        super(DoubleConv, self).__init__()\n",
    "        self.conv = nn.Sequential(\n",
    "            nn.Conv2d(in_channels, out_channels, 3, 1, 1, bias=False),  # 3x3 convolution\n",
    "            nn.BatchNorm2d(out_channels),\n",
    "            nn.ReLU(inplace=True),\n",
    "            nn.Conv2d(out_channels, out_channels, 3, 1, 1, bias=False),\n",
    "            nn.BatchNorm2d(out_channels),\n",
    "            nn.ReLU(inplace=True),\n",
    "        )\n",
    "\n",
    "    def forward(self, x):\n",
    "        return self.conv(x)\n"
   ]
  },
  {
   "cell_type": "markdown",
   "id": "26a7636f",
   "metadata": {},
   "source": [
    "Now let's devise the network using Pytorch functionality."
   ]
  },
  {
   "cell_type": "code",
   "execution_count": 7,
   "id": "fced8572",
   "metadata": {},
   "outputs": [],
   "source": [
    "\n",
    "class UNET(nn.Module):\n",
    "    def __init__(\n",
    "            self, in_channels=3, out_channels=1, features=[64, 128, 256, 512],\n",
    "    ):\n",
    "        super(UNET, self).__init__()\n",
    "        self.ups = nn.ModuleList()\n",
    "        self.downs = nn.ModuleList()\n",
    "        self.pool = nn.MaxPool2d(kernel_size=2, stride=2)\n",
    "\n",
    "        # Down part of UNET\n",
    "        for feature in features:\n",
    "            self.downs.append(DoubleConv(in_channels, feature))\n",
    "            in_channels = feature\n",
    "\n",
    "        # Up part of UNET\n",
    "        for feature in reversed(features):\n",
    "            self.ups.append(\n",
    "                nn.ConvTranspose2d(\n",
    "                    feature*2, feature, kernel_size=2, stride=2,\n",
    "                )\n",
    "            )\n",
    "            self.ups.append(DoubleConv(feature*2, feature))\n",
    "\n",
    "        self.bottleneck = DoubleConv(features[-1], features[-1]*2)\n",
    "        self.final_conv = nn.Conv2d(features[0], out_channels, kernel_size=1)\n",
    "\n",
    "    def forward(self, x):\n",
    "        skip_connections = []\n",
    "\n",
    "        for down in self.downs:\n",
    "            x = down(x)\n",
    "            skip_connections.append(x)\n",
    "            x = self.pool(x)\n",
    "\n",
    "        x = self.bottleneck(x)\n",
    "        skip_connections = skip_connections[::-1]\n",
    "\n",
    "        for idx in range(0, len(self.ups), 2):\n",
    "            x = self.ups[idx](x)\n",
    "            skip_connection = skip_connections[idx//2]\n",
    "\n",
    "            if x.shape != skip_connection.shape:\n",
    "                x = TF.resize(x, size=skip_connection.shape[2:])\n",
    "\n",
    "            concat_skip = torch.cat((skip_connection, x), dim=1)\n",
    "            x = self.ups[idx+1](concat_skip)\n",
    "\n",
    "        return self.final_conv(x)"
   ]
  },
  {
   "cell_type": "markdown",
   "id": "13cb73a3",
   "metadata": {},
   "source": [
    "For a sanity check, let's just make sure that we are getting a prediction that is the shape we would expect.\n",
    "\n",
    "**QUESTION: Given the shape of the torch.randn() and the fact that we're using padding, what do you expect the output shape to be?**\n"
   ]
  },
  {
   "cell_type": "code",
   "execution_count": 8,
   "id": "ec710922",
   "metadata": {},
   "outputs": [],
   "source": [
    "x = torch.randn((3, 1, 50, 50))\n",
    "model = UNET(in_channels=1, out_channels=1)\n",
    "preds = model(x)\n",
    "assert preds.shape == x.shape\n"
   ]
  },
  {
   "cell_type": "markdown",
   "id": "22eff670",
   "metadata": {},
   "source": [
    "### Dataset Loader\n",
    "Now we'll prepare our data for training and testing using Pytorch's DataLoader which will pass in samples in “minibatches”."
   ]
  },
  {
   "cell_type": "code",
   "execution_count": 9,
   "id": "d2a0d284",
   "metadata": {},
   "outputs": [],
   "source": [
    "import os\n",
    "from PIL import Image\n",
    "from torch.utils.data import Dataset\n",
    "import numpy as np\n",
    "\n",
    "class CarvanaDataset(Dataset):\n",
    "    def __init__(self, image_dir, mask_dir, transform=None):\n",
    "        self.image_dir = image_dir\n",
    "        self.mask_dir = mask_dir\n",
    "        self.transform = transform\n",
    "        self.images = os.listdir(image_dir)\n",
    "\n",
    "    def __len__(self):\n",
    "        return len(self.images)\n",
    "\n",
    "    def __getitem__(self, index):\n",
    "        img_path = os.path.join(self.image_dir, self.images[index])\n",
    "        mask_path = os.path.join(self.mask_dir, self.images[index].replace(\".jpg\", \"_mask.gif\"))\n",
    "        image = np.array(Image.open(img_path).convert(\"RGB\"))\n",
    "        mask = np.array(Image.open(mask_path).convert(\"L\"), dtype=np.float32)\n",
    "        mask[mask == 255.0] = 1.0\n",
    "\n",
    "        if self.transform is not None:\n",
    "            augmentations = self.transform(image=image, mask=mask)\n",
    "            image = augmentations[\"image\"]\n",
    "            mask = augmentations[\"mask\"]\n",
    "\n",
    "        return image, mask"
   ]
  },
  {
   "cell_type": "markdown",
   "id": "6d61b958",
   "metadata": {},
   "source": [
    "### Useful Utility Functions"
   ]
  },
  {
   "cell_type": "code",
   "execution_count": 55,
   "id": "cd841210",
   "metadata": {},
   "outputs": [],
   "source": [
    "import torch\n",
    "import torchvision\n",
    "from torch.utils.data import DataLoader\n",
    "\n",
    "def save_checkpoint(state, filename=\"my_checkpoint.pth.tar\"):\n",
    "    print(\"=> Saving checkpoint\")\n",
    "    torch.save(state, filename)\n",
    "\n",
    "def load_checkpoint(checkpoint, model):\n",
    "    print(\"=> Loading checkpoint\")\n",
    "    model.load_state_dict(checkpoint[\"state_dict\"])\n",
    "\n",
    "def get_loaders(\n",
    "    train_dir,\n",
    "    train_maskdir,\n",
    "    val_dir,\n",
    "    val_maskdir,\n",
    "    batch_size,\n",
    "    train_transform,\n",
    "    val_transform,\n",
    "):\n",
    "    train_ds = CarvanaDataset(\n",
    "        image_dir=train_dir,\n",
    "        mask_dir=train_maskdir,\n",
    "        transform=train_transform,\n",
    "    )\n",
    "\n",
    "    train_loader = DataLoader(\n",
    "        train_ds,\n",
    "        batch_size=batch_size,\n",
    "        shuffle=True,\n",
    "    )\n",
    "\n",
    "    val_ds = CarvanaDataset(\n",
    "        image_dir=val_dir,\n",
    "        mask_dir=val_maskdir,\n",
    "        transform=val_transform,\n",
    "    )\n",
    "\n",
    "    val_loader = DataLoader(\n",
    "        val_ds,\n",
    "        batch_size=batch_size,\n",
    "        shuffle=False,\n",
    "    )\n",
    "\n",
    "    return train_loader, val_loader\n",
    "\n",
    "def check_accuracy(loader, model):\n",
    "    num_correct = 0\n",
    "    num_pixels = 0\n",
    "    model.eval()\n",
    "\n",
    "    with torch.no_grad():\n",
    "        for x, y in loader:\n",
    "            x = x\n",
    "            y = y.unsqueeze(1)\n",
    "            preds = torch.sigmoid(model(x))\n",
    "            preds = (preds > 0.5).float()\n",
    "            num_correct += (preds == y).sum()\n",
    "            num_pixels += torch.numel(preds)\n",
    "    print(\n",
    "        f\"Got {num_correct}/{num_pixels} with acc {num_correct/num_pixels*100:.2f}\"\n",
    "    )\n",
    "    model.train()\n",
    "\n",
    "def save_predictions_as_imgs(\n",
    "    loader, model, folder=\"saved_images\"\n",
    "):\n",
    "    \n",
    "    model.eval()\n",
    "    for idx, (x, y) in enumerate(loader):\n",
    "        imageName = os.path.join(folder, f\"pred_{idx}.png\")\n",
    "        with torch.no_grad():\n",
    "            preds = torch.sigmoid(model(x))\n",
    "            preds = (preds > 0.5).float()\n",
    "        torchvision.utils.save_image(\n",
    "            preds, imageName\n",
    "        )\n",
    "#         torchvision.utils.save_image(y.unsqueeze(1), f\"{folder}{idx}.png\")\n",
    "\n",
    "    model.train()"
   ]
  },
  {
   "cell_type": "markdown",
   "id": "0b21982c",
   "metadata": {},
   "source": [
    "### Training Function"
   ]
  },
  {
   "cell_type": "code",
   "execution_count": 11,
   "id": "ef081397",
   "metadata": {},
   "outputs": [],
   "source": [
    "def train_fn(loader, model, optimizer, loss_fn):\n",
    "\n",
    "    for batch_idx, (data, targets) in enumerate(loader):\n",
    "\n",
    "        # forward\n",
    "        predictions = model(data)\n",
    "        loss = loss_fn(predictions, targets.float().unsqueeze(1))\n",
    "\n",
    "        # backward\n",
    "        optimizer.zero_grad()\n",
    "        loss.backward()\n",
    "        optimizer.step()\n",
    "\n",
    "        print(f\"Iter: {batch_idx}/{len(loader.dataset)}, Loss: {loss.item():.04f}\")\n"
   ]
  },
  {
   "cell_type": "markdown",
   "id": "9d9f8871",
   "metadata": {},
   "source": [
    "### Hyperparameters\n",
    "Choose hyperparameters for the model. Experiment with the learning rate and batch size."
   ]
  },
  {
   "cell_type": "code",
   "execution_count": 40,
   "id": "befb76f9",
   "metadata": {},
   "outputs": [
    {
     "name": "stdout",
     "output_type": "stream",
     "text": [
      "C:/Users/Gina/OneDrive/Documents/GradWork_Spring2022/DeepLearning/uNet/UNET_WORKING/uNet\n"
     ]
    }
   ],
   "source": [
    "print(os.getcwd().replace(\"\\\\\",\"/\"))"
   ]
  },
  {
   "cell_type": "code",
   "execution_count": 49,
   "id": "b2f58679",
   "metadata": {},
   "outputs": [],
   "source": [
    "# Hyperparameters\n",
    "\n",
    "# TODO: choose values\n",
    "LEARNING_RATE = 1e-4\n",
    "BATCH_SIZE = 1\n",
    "\n",
    "IMAGE_HEIGHT = 160  # 1280 originally\n",
    "IMAGE_WIDTH = 240  # 1918 originally\n",
    "LOAD_MODEL = False\n",
    "\n",
    "cwd = os.getcwd() #.replace(\"\\\\\",\"/\")\n",
    "\n",
    "TRAIN_IMG_DIR = os.path.join(cwd, \"data_small\", \"train_images\")\n",
    "TRAIN_MASK_DIR = os.path.join(cwd, \"data_small\", \"train_masks\")\n",
    "VAL_IMG_DIR = os.path.join(cwd, \"data_small\", \"val_images\")\n",
    "VAL_MASK_DIR = os.path.join(cwd, \"data_small\", \"val_masks\")"
   ]
  },
  {
   "cell_type": "markdown",
   "id": "dd62d04e",
   "metadata": {},
   "source": [
    "### Data Transformation\n",
    "The images in this dataset are quite large, so we will need to reduce the size in order to make the training time a little more reasonable. While this might sacrifice some accuracy due to compression, we can run more data through the model during training this way."
   ]
  },
  {
   "cell_type": "code",
   "execution_count": 42,
   "id": "79951834",
   "metadata": {},
   "outputs": [],
   "source": [
    "import albumentations as A\n",
    "from albumentations.pytorch import ToTensorV2\n",
    "\n",
    "train_transform = A.Compose(\n",
    "  [\n",
    "    A.Resize(height=IMAGE_HEIGHT, width=IMAGE_WIDTH),\n",
    "    A.Normalize(\n",
    "      mean=[0.0, 0.0, 0.0],\n",
    "      std=[1.0, 1.0, 1.0],\n",
    "      max_pixel_value=255.0,\n",
    "    ),\n",
    "    ToTensorV2(),\n",
    "  ],\n",
    ")\n",
    "\n",
    "val_transforms = A.Compose(\n",
    "  [\n",
    "    A.Resize(height=IMAGE_HEIGHT, width=IMAGE_WIDTH),\n",
    "    A.Normalize(\n",
    "      mean=[0.0, 0.0, 0.0],\n",
    "      std=[1.0, 1.0, 1.0],\n",
    "      max_pixel_value=255.0,\n",
    "    ),\n",
    "    ToTensorV2(),\n",
    "  ],\n",
    ")\n"
   ]
  },
  {
   "cell_type": "markdown",
   "id": "2e509552",
   "metadata": {},
   "source": [
    "### Training the Model"
   ]
  },
  {
   "cell_type": "code",
   "execution_count": 43,
   "id": "abc97cae",
   "metadata": {},
   "outputs": [
    {
     "name": "stdout",
     "output_type": "stream",
     "text": [
      "Iter: 0/48, Loss: 0.5804\n",
      "Iter: 1/48, Loss: 0.5043\n",
      "Iter: 2/48, Loss: 0.4553\n",
      "Iter: 3/48, Loss: 0.4145\n",
      "Iter: 4/48, Loss: 0.5170\n",
      "Iter: 5/48, Loss: 0.3645\n",
      "Iter: 6/48, Loss: 0.4483\n",
      "Iter: 7/48, Loss: 0.3376\n",
      "Iter: 8/48, Loss: 0.3339\n",
      "Iter: 9/48, Loss: 0.3397\n",
      "Iter: 10/48, Loss: 0.2906\n",
      "Iter: 11/48, Loss: 0.2992\n",
      "Iter: 12/48, Loss: 0.2755\n",
      "Iter: 13/48, Loss: 0.2889\n",
      "Iter: 14/48, Loss: 0.3767\n",
      "Iter: 15/48, Loss: 0.2637\n",
      "Iter: 16/48, Loss: 0.2459\n",
      "Iter: 17/48, Loss: 0.3011\n",
      "Iter: 18/48, Loss: 0.2805\n",
      "Iter: 19/48, Loss: 0.2333\n",
      "Iter: 20/48, Loss: 0.3021\n",
      "Iter: 21/48, Loss: 0.2664\n",
      "Iter: 22/48, Loss: 0.2315\n",
      "Iter: 23/48, Loss: 0.2308\n",
      "Iter: 24/48, Loss: 0.2283\n",
      "Iter: 25/48, Loss: 0.2179\n",
      "Iter: 26/48, Loss: 0.2163\n",
      "Iter: 27/48, Loss: 0.2786\n",
      "Iter: 28/48, Loss: 0.2304\n",
      "Iter: 29/48, Loss: 0.2115\n",
      "Iter: 30/48, Loss: 0.2404\n",
      "Iter: 31/48, Loss: 0.2053\n",
      "Iter: 32/48, Loss: 0.2136\n",
      "Iter: 33/48, Loss: 0.2046\n",
      "Iter: 34/48, Loss: 0.2211\n",
      "Iter: 35/48, Loss: 0.1975\n",
      "Iter: 36/48, Loss: 0.1998\n",
      "Iter: 37/48, Loss: 0.1962\n",
      "Iter: 38/48, Loss: 0.2034\n",
      "Iter: 39/48, Loss: 0.1992\n",
      "Iter: 40/48, Loss: 0.1985\n",
      "Iter: 41/48, Loss: 0.1871\n",
      "Iter: 42/48, Loss: 0.1913\n",
      "Iter: 43/48, Loss: 0.2282\n",
      "Iter: 44/48, Loss: 0.2038\n",
      "Iter: 45/48, Loss: 0.1820\n",
      "Iter: 46/48, Loss: 0.2200\n",
      "Iter: 47/48, Loss: 0.1813\n"
     ]
    }
   ],
   "source": [
    "model = UNET(in_channels=3, out_channels=1)\n",
    "\n",
    "# TODO: choose a loss function\n",
    "loss_fn = nn.BCEWithLogitsLoss()\n",
    "\n",
    "# TODO: implement an optimizer for this model\n",
    "import torch.optim as optim\n",
    "optimizer = optim.Adam(model.parameters(), lr=LEARNING_RATE)\n",
    "\n",
    "train_loader, val_loader = get_loaders(\n",
    "  TRAIN_IMG_DIR,\n",
    "  TRAIN_MASK_DIR,\n",
    "  VAL_IMG_DIR,\n",
    "  VAL_MASK_DIR,\n",
    "  BATCH_SIZE,\n",
    "  train_transform,\n",
    "  val_transforms,\n",
    ")\n",
    "\n",
    "train_fn(train_loader, model, optimizer, loss_fn)\n"
   ]
  },
  {
   "cell_type": "markdown",
   "id": "0da1b77f",
   "metadata": {},
   "source": [
    "### Validating the Model"
   ]
  },
  {
   "cell_type": "code",
   "execution_count": 56,
   "id": "05ed2320",
   "metadata": {},
   "outputs": [
    {
     "name": "stdout",
     "output_type": "stream",
     "text": [
      "Got 604809/614400 with acc 98.44\n",
      "C:\\Users\\Gina\\OneDrive\\Documents\\GradWork_Spring2022\\DeepLearning\\uNet\\UNET_WORKING\\uNet\\saved_images\n"
     ]
    }
   ],
   "source": [
    "# check accuracy\n",
    "check_accuracy(val_loader, model)\n",
    "\n",
    "# print some examples to a folder\n",
    "folder = os.path.join(cwd, \"saved_images\")\n",
    "if not os.path.exists(folder):\n",
    "    os.mkdir(folder)\n",
    "\n",
    "print(folder)\n",
    "\n",
    "save_predictions_as_imgs(\n",
    "    val_loader, model, folder = folder\n",
    ")"
   ]
  },
  {
   "cell_type": "code",
   "execution_count": null,
   "id": "1cf10837",
   "metadata": {},
   "outputs": [],
   "source": []
  }
 ],
 "metadata": {
  "kernelspec": {
   "display_name": "Python 3 (ipykernel)",
   "language": "python",
   "name": "python3"
  },
  "language_info": {
   "codemirror_mode": {
    "name": "ipython",
    "version": 3
   },
   "file_extension": ".py",
   "mimetype": "text/x-python",
   "name": "python",
   "nbconvert_exporter": "python",
   "pygments_lexer": "ipython3",
   "version": "3.9.7"
  }
 },
 "nbformat": 4,
 "nbformat_minor": 5
}
